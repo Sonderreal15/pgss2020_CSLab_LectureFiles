{
  "nbformat": 4,
  "nbformat_minor": 0,
  "metadata": {
    "colab": {
      "name": "myFirstScript.ipynb",
      "provenance": [],
      "collapsed_sections": []
    },
    "kernelspec": {
      "name": "python3",
      "display_name": "Python 3"
    }
  },
  "cells": [
    {
      "cell_type": "markdown",
      "metadata": {
        "id": "GhUZ4HFcUufL",
        "colab_type": "text"
      },
      "source": [
        "**In this script, we:**\n",
        "1. connect colab to our google drive\n",
        "2. read a file from github as a raw file, intro a pandas data frame\n",
        "3. summarize that data\n",
        "4. read a file from google driver into a separate pandas data frame"
      ]
    },
    {
      "cell_type": "markdown",
      "metadata": {
        "id": "VLF0662gG7uM",
        "colab_type": "text"
      },
      "source": [
        "This was my very first script! \n"
      ]
    },
    {
      "cell_type": "markdown",
      "metadata": {
        "id": "R_G0Umo4VMg6",
        "colab_type": "text"
      },
      "source": [
        "# Connect Colab to Google Drive"
      ]
    },
    {
      "cell_type": "code",
      "metadata": {
        "id": "8Sx3n6z7F8a-",
        "colab_type": "code",
        "colab": {}
      },
      "source": [
        "# https://drive.google.com/drive/folders/1SC6niq05OyGLxiUZHpbd0GABGfbmeB6F?usp=sharing\n",
        "\n",
        "a=1\n",
        "print(a) "
      ],
      "execution_count": null,
      "outputs": []
    },
    {
      "cell_type": "code",
      "metadata": {
        "id": "bqKH0qFXGAJK",
        "colab_type": "code",
        "colab": {
          "base_uri": "https://localhost:8080/",
          "height": 122
        },
        "outputId": "dd52a471-b872-4ff8-b670-88e1d0bb6679"
      },
      "source": [
        "from google.colab import drive\n",
        "drive.mount('/content/drive')"
      ],
      "execution_count": null,
      "outputs": [
        {
          "output_type": "stream",
          "text": [
            "Go to this URL in a browser: https://accounts.google.com/o/oauth2/auth?client_id=947318989803-6bn6qk8qdgf4n4g3pfee6491hc0brc4i.apps.googleusercontent.com&redirect_uri=urn%3aietf%3awg%3aoauth%3a2.0%3aoob&response_type=code&scope=email%20https%3a%2f%2fwww.googleapis.com%2fauth%2fdocs.test%20https%3a%2f%2fwww.googleapis.com%2fauth%2fdrive%20https%3a%2f%2fwww.googleapis.com%2fauth%2fdrive.photos.readonly%20https%3a%2f%2fwww.googleapis.com%2fauth%2fpeopleapi.readonly\n",
            "\n",
            "Enter your authorization code:\n",
            "··········\n",
            "Mounted at /content/drive\n"
          ],
          "name": "stdout"
        }
      ]
    },
    {
      "cell_type": "markdown",
      "metadata": {
        "id": "TphjPZghVWnd",
        "colab_type": "text"
      },
      "source": [
        "# Read a file from Github as a RAW file, into a pandas data frame, summarize that data"
      ]
    },
    {
      "cell_type": "code",
      "metadata": {
        "id": "HWSHondsVwEm",
        "colab_type": "code",
        "colab": {}
      },
      "source": [
        "import pandas as pd\n",
        "ChicagoData = pd.read_csv('https://raw.githubusercontent.com/menonpg/covid19_Chicago/master/timeSeries_COVID19_Chicago.csv')"
      ],
      "execution_count": null,
      "outputs": []
    },
    {
      "cell_type": "markdown",
      "metadata": {
        "id": "vejsjkZCWDnf",
        "colab_type": "text"
      },
      "source": [
        "#Summarize the above data"
      ]
    },
    {
      "cell_type": "code",
      "metadata": {
        "id": "nEQ0aNdvWIA0",
        "colab_type": "code",
        "colab": {
          "base_uri": "https://localhost:8080/",
          "height": 228
        },
        "outputId": "460e8425-6135-4f32-d753-cb01948084cd"
      },
      "source": [
        "print(\"Min values by column \\n\" + str(ChicagoData.aggregate( 'min' )) + '\\n\\n')\n",
        "print(\"Max values by column \\n\" + str(ChicagoData.aggregate( 'max' )))"
      ],
      "execution_count": 13,
      "outputs": [
        {
          "output_type": "stream",
          "text": [
            "Min values by column \n",
            "Cases            598\n",
            "Deaths             4\n",
            "Date      2020-03-24\n",
            "dtype: object\n",
            "\n",
            "\n",
            "Max values by column \n",
            "Cases          52813\n",
            "Deaths          2623\n",
            "Date      2020-07-02\n",
            "dtype: object\n"
          ],
          "name": "stdout"
        }
      ]
    },
    {
      "cell_type": "code",
      "metadata": {
        "id": "vjyCkq1aXzCG",
        "colab_type": "code",
        "colab": {}
      },
      "source": [
        ""
      ],
      "execution_count": null,
      "outputs": []
    }
  ]
}